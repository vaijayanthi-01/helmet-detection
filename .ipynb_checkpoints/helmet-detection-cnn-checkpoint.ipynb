{
 "cells": [
  {
   "cell_type": "code",
   "execution_count": null,
   "id": "8f32bd5c",
   "metadata": {
    "execution": {
     "iopub.execute_input": "2022-10-16T22:48:09.873530Z",
     "iopub.status.busy": "2022-10-16T22:48:09.872936Z",
     "iopub.status.idle": "2022-10-16T22:48:16.062695Z",
     "shell.execute_reply": "2022-10-16T22:48:16.061480Z"
    },
    "papermill": {
     "duration": 6.200839,
     "end_time": "2022-10-16T22:48:16.065406",
     "exception": false,
     "start_time": "2022-10-16T22:48:09.864567",
     "status": "completed"
    },
    "tags": []
   },
   "outputs": [],
   "source": [
    "import xml.etree.ElementTree as tree\n",
    "import cv2 \n",
    "import matplotlib.pyplot as plt\n",
    "import numpy as np \n",
    "from sklearn.preprocessing import LabelEncoder \n",
    "import random \n",
    "import tensorflow as tf \n",
    "from tensorflow.keras import layers,Sequential"
   ]
  },
  {
   "cell_type": "code",
   "execution_count": 2,
   "id": "a72f8c47",
   "metadata": {
    "execution": {
     "iopub.execute_input": "2022-10-16T22:48:16.074454Z",
     "iopub.status.busy": "2022-10-16T22:48:16.073897Z",
     "iopub.status.idle": "2022-10-16T22:48:16.081446Z",
     "shell.execute_reply": "2022-10-16T22:48:16.080548Z"
    },
    "papermill": {
     "duration": 0.014137,
     "end_time": "2022-10-16T22:48:16.083405",
     "exception": false,
     "start_time": "2022-10-16T22:48:16.069268",
     "status": "completed"
    },
    "tags": []
   },
   "outputs": [],
   "source": [
    "def getBboxes(path):\n",
    "    file = tree.parse(path)\n",
    "    root = file.getroot()\n",
    "    bboxes = []\n",
    "    for helmet in root.iter(\"object\"):\n",
    "        bbox = []\n",
    "        for point in helmet[5]:\n",
    "            bbox.append(int(point.text))\n",
    "\n",
    "        bboxes.append([bbox,helmet[0].text])\n",
    "    return bboxes"
   ]
  },
  {
   "cell_type": "code",
   "execution_count": 3,
   "id": "6d9a9fe4",
   "metadata": {
    "execution": {
     "iopub.execute_input": "2022-10-16T22:48:16.093000Z",
     "iopub.status.busy": "2022-10-16T22:48:16.091531Z",
     "iopub.status.idle": "2022-10-16T22:48:16.097727Z",
     "shell.execute_reply": "2022-10-16T22:48:16.096784Z"
    },
    "papermill": {
     "duration": 0.012724,
     "end_time": "2022-10-16T22:48:16.099806",
     "exception": false,
     "start_time": "2022-10-16T22:48:16.087082",
     "status": "completed"
    },
    "tags": []
   },
   "outputs": [],
   "source": [
    "def preprocess(img):\n",
    "    img = cv2.cvtColor(img, cv2.COLOR_BGR2GRAY)\n",
    "    img = img/255.0\n",
    "    img = cv2.resize(img,(128,128))\n",
    "    return img"
   ]
  },
  {
   "cell_type": "code",
   "execution_count": 4,
   "id": "95092c72",
   "metadata": {
    "execution": {
     "iopub.execute_input": "2022-10-16T22:48:16.107821Z",
     "iopub.status.busy": "2022-10-16T22:48:16.106822Z",
     "iopub.status.idle": "2022-10-16T22:49:07.475412Z",
     "shell.execute_reply": "2022-10-16T22:49:07.474243Z"
    },
    "papermill": {
     "duration": 51.375657,
     "end_time": "2022-10-16T22:49:07.478437",
     "exception": false,
     "start_time": "2022-10-16T22:48:16.102780",
     "status": "completed"
    },
    "tags": []
   },
   "outputs": [],
   "source": [
    "images = []\n",
    "labels = []\n",
    "for i in range(3000):\n",
    "    path = \"hard_hat_workers\"+str(i)\n",
    "    bboxes = getBboxes(\"../input/helmet-detection-at-work-for-safety/annotations/\"+path+\".xml\")\n",
    "    img = cv2.imread(\"../input/helmet-detection-at-work-for-safety/images/\"+path+\".png\")\n",
    "    \n",
    "    for helmet in bboxes:\n",
    "        image = img[helmet[0][1]:helmet[0][3],helmet[0][0]:helmet[0][2]]\n",
    "        label = helmet[1]\n",
    "        image = preprocess(image)\n",
    "        images.append(image)\n",
    "        labels.append(label)\n",
    "c = list(zip(images, labels))\n",
    "random.shuffle(c)\n",
    "images, labels = zip(*c)\n",
    "\n",
    "labels = np.array(labels)\n",
    "images = np.array(images)"
   ]
  },
  {
   "cell_type": "code",
   "execution_count": 5,
   "id": "815fde37",
   "metadata": {
    "execution": {
     "iopub.execute_input": "2022-10-16T22:49:07.490686Z",
     "iopub.status.busy": "2022-10-16T22:49:07.489545Z",
     "iopub.status.idle": "2022-10-16T22:49:07.501039Z",
     "shell.execute_reply": "2022-10-16T22:49:07.500139Z"
    },
    "papermill": {
     "duration": 0.020102,
     "end_time": "2022-10-16T22:49:07.503867",
     "exception": false,
     "start_time": "2022-10-16T22:49:07.483765",
     "status": "completed"
    },
    "tags": []
   },
   "outputs": [],
   "source": [
    "encoder = LabelEncoder()\n",
    "labels = encoder.fit_transform(labels)"
   ]
  },
  {
   "cell_type": "code",
   "execution_count": 6,
   "id": "fc20fa1c",
   "metadata": {
    "execution": {
     "iopub.execute_input": "2022-10-16T22:49:07.515207Z",
     "iopub.status.busy": "2022-10-16T22:49:07.514865Z",
     "iopub.status.idle": "2022-10-16T22:49:07.520844Z",
     "shell.execute_reply": "2022-10-16T22:49:07.519928Z"
    },
    "papermill": {
     "duration": 0.019292,
     "end_time": "2022-10-16T22:49:07.528270",
     "exception": false,
     "start_time": "2022-10-16T22:49:07.508978",
     "status": "completed"
    },
    "tags": []
   },
   "outputs": [
    {
     "name": "stdout",
     "output_type": "stream",
     "text": [
      "15476\n",
      "15476\n"
     ]
    }
   ],
   "source": [
    "print(len(images))\n",
    "print(len(labels))"
   ]
  },
  {
   "cell_type": "code",
   "execution_count": 7,
   "id": "cf6f00d9",
   "metadata": {
    "execution": {
     "iopub.execute_input": "2022-10-16T22:49:07.539565Z",
     "iopub.status.busy": "2022-10-16T22:49:07.539141Z",
     "iopub.status.idle": "2022-10-16T22:49:08.330814Z",
     "shell.execute_reply": "2022-10-16T22:49:08.329552Z"
    },
    "papermill": {
     "duration": 0.800104,
     "end_time": "2022-10-16T22:49:08.333370",
     "exception": false,
     "start_time": "2022-10-16T22:49:07.533266",
     "status": "completed"
    },
    "tags": []
   },
   "outputs": [
    {
     "name": "stdout",
     "output_type": "stream",
     "text": [
      "12380\n",
      "1548\n",
      "1548\n"
     ]
    }
   ],
   "source": [
    "from sklearn.model_selection import train_test_split\n",
    "\n",
    "x_train,x_temp,y_train,y_temp = train_test_split(images,labels,test_size=0.2)\n",
    "x_val,x_test,y_val,y_test = train_test_split(x_temp,y_temp,test_size=0.5)\n",
    "print(len(x_train))\n",
    "print(len(x_val))\n",
    "print(len(x_test))"
   ]
  },
  {
   "cell_type": "code",
   "execution_count": 8,
   "id": "93aa1eae",
   "metadata": {
    "execution": {
     "iopub.execute_input": "2022-10-16T22:49:08.342590Z",
     "iopub.status.busy": "2022-10-16T22:49:08.341298Z",
     "iopub.status.idle": "2022-10-16T22:49:08.347561Z",
     "shell.execute_reply": "2022-10-16T22:49:08.346659Z"
    },
    "papermill": {
     "duration": 0.013182,
     "end_time": "2022-10-16T22:49:08.350041",
     "exception": false,
     "start_time": "2022-10-16T22:49:08.336859",
     "status": "completed"
    },
    "tags": []
   },
   "outputs": [],
   "source": [
    "lr = 0.01\n",
    "def learning_rate(epoch):\n",
    "    global lr\n",
    "    if epoch>6:\n",
    "        return lr*.1\n",
    "    else:\n",
    "        return lr"
   ]
  },
  {
   "cell_type": "code",
   "execution_count": 9,
   "id": "aefdfbd0",
   "metadata": {
    "execution": {
     "iopub.execute_input": "2022-10-16T22:49:08.358289Z",
     "iopub.status.busy": "2022-10-16T22:49:08.357977Z",
     "iopub.status.idle": "2022-10-16T22:49:08.363463Z",
     "shell.execute_reply": "2022-10-16T22:49:08.362390Z"
    },
    "papermill": {
     "duration": 0.012473,
     "end_time": "2022-10-16T22:49:08.366090",
     "exception": false,
     "start_time": "2022-10-16T22:49:08.353617",
     "status": "completed"
    },
    "tags": []
   },
   "outputs": [],
   "source": [
    "x_train = x_train.reshape(-1, 128,128, 1)\n",
    "x_val = x_val.reshape(-1,128,128, 1)\n",
    "x_test = x_test.reshape(-1,128,128, 1)"
   ]
  },
  {
   "cell_type": "code",
   "execution_count": 10,
   "id": "566ec3f3",
   "metadata": {
    "execution": {
     "iopub.execute_input": "2022-10-16T22:49:08.374321Z",
     "iopub.status.busy": "2022-10-16T22:49:08.374048Z",
     "iopub.status.idle": "2022-10-16T22:51:55.562706Z",
     "shell.execute_reply": "2022-10-16T22:51:55.561644Z"
    },
    "papermill": {
     "duration": 167.1954,
     "end_time": "2022-10-16T22:51:55.564992",
     "exception": false,
     "start_time": "2022-10-16T22:49:08.369592",
     "status": "completed"
    },
    "tags": []
   },
   "outputs": [
    {
     "name": "stderr",
     "output_type": "stream",
     "text": [
      "2022-10-16 22:49:08.498597: I tensorflow/stream_executor/cuda/cuda_gpu_executor.cc:937] successful NUMA node read from SysFS had negative value (-1), but there must be at least one NUMA node, so returning NUMA node zero\n",
      "2022-10-16 22:49:08.596675: I tensorflow/stream_executor/cuda/cuda_gpu_executor.cc:937] successful NUMA node read from SysFS had negative value (-1), but there must be at least one NUMA node, so returning NUMA node zero\n",
      "2022-10-16 22:49:08.597556: I tensorflow/stream_executor/cuda/cuda_gpu_executor.cc:937] successful NUMA node read from SysFS had negative value (-1), but there must be at least one NUMA node, so returning NUMA node zero\n",
      "2022-10-16 22:49:08.598977: I tensorflow/core/platform/cpu_feature_guard.cc:142] This TensorFlow binary is optimized with oneAPI Deep Neural Network Library (oneDNN) to use the following CPU instructions in performance-critical operations:  AVX2 AVX512F FMA\n",
      "To enable them in other operations, rebuild TensorFlow with the appropriate compiler flags.\n",
      "2022-10-16 22:49:08.599310: I tensorflow/stream_executor/cuda/cuda_gpu_executor.cc:937] successful NUMA node read from SysFS had negative value (-1), but there must be at least one NUMA node, so returning NUMA node zero\n",
      "2022-10-16 22:49:08.600115: I tensorflow/stream_executor/cuda/cuda_gpu_executor.cc:937] successful NUMA node read from SysFS had negative value (-1), but there must be at least one NUMA node, so returning NUMA node zero\n",
      "2022-10-16 22:49:08.600808: I tensorflow/stream_executor/cuda/cuda_gpu_executor.cc:937] successful NUMA node read from SysFS had negative value (-1), but there must be at least one NUMA node, so returning NUMA node zero\n",
      "2022-10-16 22:49:10.856182: I tensorflow/stream_executor/cuda/cuda_gpu_executor.cc:937] successful NUMA node read from SysFS had negative value (-1), but there must be at least one NUMA node, so returning NUMA node zero\n",
      "2022-10-16 22:49:10.857121: I tensorflow/stream_executor/cuda/cuda_gpu_executor.cc:937] successful NUMA node read from SysFS had negative value (-1), but there must be at least one NUMA node, so returning NUMA node zero\n",
      "2022-10-16 22:49:10.857838: I tensorflow/stream_executor/cuda/cuda_gpu_executor.cc:937] successful NUMA node read from SysFS had negative value (-1), but there must be at least one NUMA node, so returning NUMA node zero\n",
      "2022-10-16 22:49:10.858476: I tensorflow/core/common_runtime/gpu/gpu_device.cc:1510] Created device /job:localhost/replica:0/task:0/device:GPU:0 with 15401 MB memory:  -> device: 0, name: Tesla P100-PCIE-16GB, pci bus id: 0000:00:04.0, compute capability: 6.0\n",
      "2022-10-16 22:49:11.696745: W tensorflow/core/framework/cpu_allocator_impl.cc:80] Allocation of 811335680 exceeds 10% of free system memory.\n",
      "2022-10-16 22:49:12.640410: W tensorflow/core/framework/cpu_allocator_impl.cc:80] Allocation of 811335680 exceeds 10% of free system memory.\n",
      "2022-10-16 22:49:13.311667: I tensorflow/compiler/mlir/mlir_graph_optimization_pass.cc:185] None of the MLIR Optimization Passes are enabled (registered 2)\n"
     ]
    },
    {
     "name": "stdout",
     "output_type": "stream",
     "text": [
      "Epoch 1/50\n",
      "\n",
      "Epoch 00001: LearningRateScheduler setting learning rate to 0.01.\n"
     ]
    },
    {
     "name": "stderr",
     "output_type": "stream",
     "text": [
      "2022-10-16 22:49:14.932156: I tensorflow/stream_executor/cuda/cuda_dnn.cc:369] Loaded cuDNN version 8005\n"
     ]
    },
    {
     "name": "stdout",
     "output_type": "stream",
     "text": [
      "387/387 [==============================] - 14s 17ms/step - loss: 0.6765 - accuracy: 0.7844 - val_loss: 0.4931 - val_accuracy: 0.7959\n",
      "Epoch 2/50\n",
      "\n",
      "Epoch 00002: LearningRateScheduler setting learning rate to 0.01.\n",
      "387/387 [==============================] - 6s 15ms/step - loss: 0.4724 - accuracy: 0.8206 - val_loss: 0.4601 - val_accuracy: 0.8081\n",
      "Epoch 3/50\n",
      "\n",
      "Epoch 00003: LearningRateScheduler setting learning rate to 0.01.\n",
      "387/387 [==============================] - 6s 15ms/step - loss: 0.4424 - accuracy: 0.8291 - val_loss: 0.4045 - val_accuracy: 0.8559\n",
      "Epoch 4/50\n",
      "\n",
      "Epoch 00004: LearningRateScheduler setting learning rate to 0.01.\n",
      "387/387 [==============================] - 6s 15ms/step - loss: 0.4336 - accuracy: 0.8334 - val_loss: 0.4169 - val_accuracy: 0.8404\n",
      "Epoch 5/50\n",
      "\n",
      "Epoch 00005: LearningRateScheduler setting learning rate to 0.01.\n",
      "387/387 [==============================] - 6s 15ms/step - loss: 0.4204 - accuracy: 0.8363 - val_loss: 0.3991 - val_accuracy: 0.8598\n",
      "Epoch 6/50\n",
      "\n",
      "Epoch 00006: LearningRateScheduler setting learning rate to 0.01.\n",
      "387/387 [==============================] - 6s 16ms/step - loss: 0.3990 - accuracy: 0.8512 - val_loss: 0.4451 - val_accuracy: 0.8030\n",
      "Epoch 7/50\n",
      "\n",
      "Epoch 00007: LearningRateScheduler setting learning rate to 0.01.\n",
      "387/387 [==============================] - 6s 15ms/step - loss: 0.3944 - accuracy: 0.8498 - val_loss: 0.3851 - val_accuracy: 0.8566\n",
      "Epoch 8/50\n",
      "\n",
      "Epoch 00008: LearningRateScheduler setting learning rate to 0.001.\n",
      "387/387 [==============================] - 6s 15ms/step - loss: 0.3558 - accuracy: 0.8632 - val_loss: 0.3474 - val_accuracy: 0.8727\n",
      "Epoch 9/50\n",
      "\n",
      "Epoch 00009: LearningRateScheduler setting learning rate to 0.001.\n",
      "387/387 [==============================] - 6s 15ms/step - loss: 0.3473 - accuracy: 0.8632 - val_loss: 0.3412 - val_accuracy: 0.8779\n",
      "Epoch 10/50\n",
      "\n",
      "Epoch 00010: LearningRateScheduler setting learning rate to 0.001.\n",
      "387/387 [==============================] - 6s 15ms/step - loss: 0.3383 - accuracy: 0.8691 - val_loss: 0.3372 - val_accuracy: 0.8779\n",
      "Epoch 11/50\n",
      "\n",
      "Epoch 00011: LearningRateScheduler setting learning rate to 0.001.\n",
      "387/387 [==============================] - 6s 16ms/step - loss: 0.3379 - accuracy: 0.8689 - val_loss: 0.3303 - val_accuracy: 0.8786\n",
      "Epoch 12/50\n",
      "\n",
      "Epoch 00012: LearningRateScheduler setting learning rate to 0.001.\n",
      "387/387 [==============================] - 6s 15ms/step - loss: 0.3298 - accuracy: 0.8712 - val_loss: 0.3346 - val_accuracy: 0.8779\n",
      "Epoch 13/50\n",
      "\n",
      "Epoch 00013: LearningRateScheduler setting learning rate to 0.001.\n",
      "387/387 [==============================] - 6s 15ms/step - loss: 0.3225 - accuracy: 0.8724 - val_loss: 0.3191 - val_accuracy: 0.8876\n",
      "Epoch 14/50\n",
      "\n",
      "Epoch 00014: LearningRateScheduler setting learning rate to 0.001.\n",
      "387/387 [==============================] - 6s 15ms/step - loss: 0.3123 - accuracy: 0.8759 - val_loss: 0.3218 - val_accuracy: 0.8798\n",
      "Epoch 15/50\n",
      "\n",
      "Epoch 00015: LearningRateScheduler setting learning rate to 0.001.\n",
      "387/387 [==============================] - 6s 15ms/step - loss: 0.3076 - accuracy: 0.8764 - val_loss: 0.3184 - val_accuracy: 0.8824\n",
      "Epoch 16/50\n",
      "\n",
      "Epoch 00016: LearningRateScheduler setting learning rate to 0.001.\n",
      "387/387 [==============================] - 6s 15ms/step - loss: 0.2987 - accuracy: 0.8777 - val_loss: 0.3088 - val_accuracy: 0.8824\n",
      "Epoch 17/50\n",
      "\n",
      "Epoch 00017: LearningRateScheduler setting learning rate to 0.001.\n",
      "387/387 [==============================] - 6s 16ms/step - loss: 0.2923 - accuracy: 0.8800 - val_loss: 0.3279 - val_accuracy: 0.8863\n",
      "Epoch 18/50\n",
      "\n",
      "Epoch 00018: LearningRateScheduler setting learning rate to 0.001.\n",
      "387/387 [==============================] - 6s 15ms/step - loss: 0.2880 - accuracy: 0.8826 - val_loss: 0.3098 - val_accuracy: 0.8844\n",
      "Epoch 19/50\n",
      "\n",
      "Epoch 00019: LearningRateScheduler setting learning rate to 0.001.\n",
      "387/387 [==============================] - 6s 15ms/step - loss: 0.2920 - accuracy: 0.8750 - val_loss: 0.3069 - val_accuracy: 0.8844\n",
      "Epoch 20/50\n",
      "\n",
      "Epoch 00020: LearningRateScheduler setting learning rate to 0.001.\n",
      "387/387 [==============================] - 6s 15ms/step - loss: 0.2810 - accuracy: 0.8839 - val_loss: 0.3124 - val_accuracy: 0.8882\n",
      "Epoch 21/50\n",
      "\n",
      "Epoch 00021: LearningRateScheduler setting learning rate to 0.001.\n",
      "387/387 [==============================] - 6s 15ms/step - loss: 0.2722 - accuracy: 0.8856 - val_loss: 0.3484 - val_accuracy: 0.8882\n",
      "Epoch 22/50\n",
      "\n",
      "Epoch 00022: LearningRateScheduler setting learning rate to 0.001.\n",
      "387/387 [==============================] - 6s 16ms/step - loss: 0.2728 - accuracy: 0.8847 - val_loss: 0.3090 - val_accuracy: 0.8824\n",
      "Epoch 23/50\n",
      "\n",
      "Epoch 00023: LearningRateScheduler setting learning rate to 0.001.\n",
      "387/387 [==============================] - 6s 15ms/step - loss: 0.2634 - accuracy: 0.8865 - val_loss: 0.3075 - val_accuracy: 0.8889\n",
      "Epoch 24/50\n",
      "\n",
      "Epoch 00024: LearningRateScheduler setting learning rate to 0.001.\n",
      "387/387 [==============================] - 6s 15ms/step - loss: 0.2589 - accuracy: 0.8907 - val_loss: 0.3448 - val_accuracy: 0.8921\n",
      "Epoch 25/50\n",
      "\n",
      "Epoch 00025: LearningRateScheduler setting learning rate to 0.001.\n",
      "387/387 [==============================] - 6s 15ms/step - loss: 0.2546 - accuracy: 0.8949 - val_loss: 0.3293 - val_accuracy: 0.8857\n",
      "Epoch 26/50\n",
      "\n",
      "Epoch 00026: LearningRateScheduler setting learning rate to 0.001.\n",
      "387/387 [==============================] - 6s 15ms/step - loss: 0.2450 - accuracy: 0.8972 - val_loss: 0.3188 - val_accuracy: 0.8837\n"
     ]
    }
   ],
   "source": [
    "model = Sequential()\n",
    "model.add(layers.Conv2D(64, (3, 3),input_shape=(128,128,1)))\n",
    "model.add(layers.MaxPooling2D((2, 2)))\n",
    "model.add(layers.BatchNormalization())\n",
    "model.add(layers.ReLU())\n",
    "model.add(layers.Conv2D(64, (3, 3)))\n",
    "model.add(layers.MaxPooling2D((2, 2)))\n",
    "model.add(layers.BatchNormalization())\n",
    "model.add(layers.ReLU())\n",
    "model.add(layers.Conv2D(128, (3, 3)))\n",
    "model.add(layers.MaxPooling2D((2, 2)))\n",
    "model.add(layers.BatchNormalization())\n",
    "model.add(layers.ReLU())\n",
    "model.add(layers.Conv2D(128, (3, 3)))\n",
    "model.add(layers.MaxPooling2D((2, 2)))\n",
    "model.add(layers.BatchNormalization())\n",
    "model.add(layers.ReLU())\n",
    "model.add(layers.Flatten())\n",
    "model.add(layers.Dense(64, activation='relu'))\n",
    "model.add(layers.Dropout(0.5))\n",
    "model.add(layers.Dense(3, activation='softmax'))\n",
    "model.compile(optimizer = \"adam\",loss=\"sparse_categorical_crossentropy\",metrics=[\"accuracy\"])\n",
    "results = model.fit(x_train,y_train,epochs=50,validation_data=(x_val,y_val),callbacks=[tf.keras.callbacks.EarlyStopping(monitor='val_loss',patience=7),\n",
    "                                                                                    tf.keras.callbacks.LearningRateScheduler(learning_rate,verbose=True)])"
   ]
  },
  {
   "cell_type": "code",
   "execution_count": 11,
   "id": "c45cb33b",
   "metadata": {
    "execution": {
     "iopub.execute_input": "2022-10-16T22:51:55.846110Z",
     "iopub.status.busy": "2022-10-16T22:51:55.845148Z",
     "iopub.status.idle": "2022-10-16T22:52:36.382589Z",
     "shell.execute_reply": "2022-10-16T22:52:36.381541Z"
    },
    "papermill": {
     "duration": 40.858977,
     "end_time": "2022-10-16T22:52:36.563514",
     "exception": false,
     "start_time": "2022-10-16T22:51:55.704537",
     "status": "completed"
    },
    "tags": []
   },
   "outputs": [
    {
     "data": {
      "image/png": "[encoded data removed]",
      "text/plain": [
       "<Figure size 864x432 with 2 Axes>"
      ]
     },
     "metadata": {
      "needs_background": "light"
     },
     "output_type": "display_data"
    }
   ],
   "source": [
    "acc = results.history['accuracy']\n",
    "val_acc = results.history['val_accuracy']\n",
    "loss = results.history['loss']\n",
    "val_loss = results.history['val_loss']\n",
    "\n",
    "plt.figure(figsize=(12, 6))\n",
    "plt.subplot(1, 2, 1)\n",
    "plt.plot(acc, label='Training Acc')\n",
    "plt.plot(val_acc, label='Validation Acc')\n",
    "plt.title('Training And Validation Acc')\n",
    "plt.legend(loc='lower right')\n",
    "\n",
    "plt.subplot(1, 2, 2)\n",
    "plt.plot(loss, label='Training Loss')\n",
    "plt.plot(val_loss, label='Validation Loss')\n",
    "plt.title('Training And Validation Loss')\n",
    "plt.legend()\n",
    "plt.show()"
   ]
  },
  {
   "cell_type": "code",
   "execution_count": 12,
   "id": "34e36f6c",
   "metadata": {
    "execution": {
     "iopub.execute_input": "2022-10-16T22:52:36.909120Z",
     "iopub.status.busy": "2022-10-16T22:52:36.908711Z",
     "iopub.status.idle": "2022-10-16T22:52:38.430727Z",
     "shell.execute_reply": "2022-10-16T22:52:38.429553Z"
    },
    "papermill": {
     "duration": 1.730505,
     "end_time": "2022-10-16T22:52:38.433026",
     "exception": false,
     "start_time": "2022-10-16T22:52:36.702521",
     "status": "completed"
    },
    "tags": []
   },
   "outputs": [
    {
     "name": "stderr",
     "output_type": "stream",
     "text": [
      "2022-10-16 22:52:37.433451: W tensorflow/core/kernels/gpu_utils.cc:49] Failed to allocate memory for convolution redzone checking; skipping this check. This is benign and only means that we won't check cudnn for out-of-bounds reads and writes. This message will only be printed once.\n"
     ]
    },
    {
     "name": "stdout",
     "output_type": "stream",
     "text": [
      "[0.30208858847618103, 0.8869509100914001]\n"
     ]
    }
   ],
   "source": [
    "test_result = model.test_on_batch(x_test,y_test)\n",
    "print(test_result)   "
   ]
  }
 ],
 "metadata": {
  "kernelspec": {
   "display_name": "Python 3 (ipykernel)",
   "language": "python",
   "name": "python3"
  },
  "language_info": {
   "codemirror_mode": {
    "name": "ipython",
    "version": 3
   },
   "file_extension": ".py",
   "mimetype": "text/x-python",
   "name": "python",
   "nbconvert_exporter": "python",
   "pygments_lexer": "ipython3",
   "version": "3.9.7"
  },
  "papermill": {
   "default_parameters": {},
   "duration": 280.762707,
   "end_time": "2022-10-16T22:52:42.353937",
   "environment_variables": {},
   "exception": null,
   "input_path": "__notebook__.ipynb",
   "output_path": "__notebook__.ipynb",
   "parameters": {},
   "start_time": "2022-10-16T22:48:01.591230",
   "version": "2.3.4"
  }
 },
 "nbformat": 4,
 "nbformat_minor": 5
}
